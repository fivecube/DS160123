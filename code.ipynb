{
 "cells": [
  {
   "cell_type": "markdown",
   "id": "661ab6e5",
   "metadata": {},
   "source": [
    "# how to find a smallest number"
   ]
  },
  {
   "cell_type": "code",
   "execution_count": 8,
   "id": "de874f0c",
   "metadata": {},
   "outputs": [
    {
     "name": "stdout",
     "output_type": "stream",
     "text": [
      "10\n"
     ]
    }
   ],
   "source": [
    "number_list = [66, 89, 22, 64, 10, 42]\n",
    "smallest = number_list[0]\n",
    "\n",
    "for no in number_list:\n",
    "    if no < smallest:\n",
    "        smallest = no\n",
    "print(smallest)"
   ]
  },
  {
   "cell_type": "code",
   "execution_count": 9,
   "id": "114ed3f2",
   "metadata": {},
   "outputs": [],
   "source": [
    "def find_smallest_number(number_list):\n",
    "    smallest = number_list[0]\n",
    "    for no in number_list:\n",
    "        if no < smallest:\n",
    "            smallest = no\n",
    "    return smallest"
   ]
  },
  {
   "cell_type": "markdown",
   "id": "a53e8999",
   "metadata": {},
   "source": [
    "# arrange the numbers in ascending order"
   ]
  },
  {
   "cell_type": "code",
   "execution_count": 14,
   "id": "ae605428",
   "metadata": {},
   "outputs": [
    {
     "name": "stdout",
     "output_type": "stream",
     "text": [
      "finally the arranged numbers = [4, 29, 33, 51, 76]\n"
     ]
    }
   ],
   "source": [
    "x = [33, 29, 4, 76, 51]\n",
    "y = []\n",
    "while len(x)!=0:\n",
    "    smallest_number = find_smallest_number(x)\n",
    "    print(f'smallest_number={smallest_number}')\n",
    "    y.append(smallest_number)\n",
    "    x.remove(smallest_number)\n",
    "    print(f'x={x}, y={y}')\n",
    "\n",
    "print(f'finally the arranged numbers = {y}')"
   ]
  },
  {
   "cell_type": "code",
   "execution_count": null,
   "id": "e9e305cb",
   "metadata": {},
   "outputs": [],
   "source": []
  }
 ],
 "metadata": {
  "kernelspec": {
   "display_name": "Python 3 (ipykernel)",
   "language": "python",
   "name": "python3"
  },
  "language_info": {
   "codemirror_mode": {
    "name": "ipython",
    "version": 3
   },
   "file_extension": ".py",
   "mimetype": "text/x-python",
   "name": "python",
   "nbconvert_exporter": "python",
   "pygments_lexer": "ipython3",
   "version": "3.8.10"
  }
 },
 "nbformat": 4,
 "nbformat_minor": 5
}
